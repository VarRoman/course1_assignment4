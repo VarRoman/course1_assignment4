{
 "cells": [
  {
   "attachments": {},
   "cell_type": "markdown",
   "metadata": {
    "deletable": false,
    "editable": false,
    "etc_identifier": "653a3605-5bda-4e1f-beef-04a0173d3f41",
    "nbgrader": {
     "cell_type": "markdown",
     "checksum": "60da2e57814a61cf6a81dd670bf35473",
     "grade": false,
     "grade_id": "cell-a6c4f74309fc2379",
     "locked": true,
     "schema_version": 3,
     "solution": false
    }
   },
   "source": [
    "# Assignment 4\n",
    "## Description\n",
    "In this assignment you must read in a file of metropolitan regions and associated sports teams from [assets/wikipedia_data.html](assets/wikipedia_data.html) and answer some questions about each metropolitan region. Each of these regions may have one or more teams from the \"Big 4\": NFL (football, in [assets/nfl.csv](assets/nfl.csv)), MLB (baseball, in [assets/mlb.csv](assets/mlb.csv)), NBA (basketball, in [assets/nba.csv](assets/nba.csv) or NHL (hockey, in [assets/nhl.csv](assets/nhl.csv)). Please keep in mind that all questions are from the perspective of the metropolitan region, and that this file is the \"source of authority\" for the location of a given sports team. Thus teams which are commonly known by a different area (e.g. \"Oakland Raiders\") need to be mapped into the metropolitan region given (e.g. San Francisco Bay Area). This will require some human data understanding outside of the data you've been given (e.g. you will have to hand-code some names, and might need to google to find out where teams are)!\n",
    "\n",
    "For each sport I would like you to answer the question: **what is the win/loss ratio's correlation with the population of the city it is in?** Win/Loss ratio refers to the number of wins over the number of wins plus the number of losses. Remember that to calculate the correlation with [`pearsonr`](https://docs.scipy.org/doc/scipy/reference/generated/scipy.stats.pearsonr.html), so you are going to send in two ordered lists of values, the populations from the wikipedia_data.html file and the win/loss ratio for a given sport in the same order. Average the win/loss ratios for those cities which have multiple teams of a single sport. Each sport is worth an equal amount in this assignment (20%\\*4=80%) of the grade for this assignment. You should only use data **from year 2018** for your analysis -- this is important!\n",
    "\n",
    "## Notes\n",
    "\n",
    "1. Do not include data about the MLS or CFL in any of the work you are doing, we're only interested in the Big 4 in this assignment.\n",
    "2. I highly suggest that you first tackle the four correlation questions in order, as they are all similar and worth the majority of grades for this assignment. This is by design!\n",
    "3. It's fair game to talk with peers about high level strategy as well as the relationship between metropolitan areas and sports teams. However, do not post code solving aspects of the assignment (including such as dictionaries mapping areas to teams, or regexes which will clean up names).\n",
    "4. There may be more teams than the assert statements test, remember to collapse multiple teams in one city into a single value!\n",
    "\n",
    "As this assignment utilizes global variables in the skeleton code, to avoid having errors in your code you can either:\n",
    "\n",
    "1. You can place all of your code within the function definitions for all of the questions (other than import statements).\n",
    "2. You can create copies of all the global variables with the copy() method and proceed as usual."
   ]
  },
  {
   "attachments": {},
   "cell_type": "markdown",
   "metadata": {
    "deletable": false,
    "editable": false,
    "nbgrader": {
     "cell_type": "markdown",
     "checksum": "369ff9ecf0ee04640574205cbc697f94",
     "grade": false,
     "grade_id": "cell-712b2b5da63d4505",
     "locked": true,
     "schema_version": 3,
     "solution": false
    }
   },
   "source": [
    "## Question 1\n",
    "For this question, calculate the win/loss ratio's correlation with the population of the city it is in for the **NHL** using **2018** data."
   ]
  },
  {
   "cell_type": "code",
   "execution_count": 3,
   "metadata": {
    "deletable": false,
    "nbgrader": {
     "cell_type": "code",
     "checksum": "1cac4803b02502929f5b1612d48db2b5",
     "grade": false,
     "grade_id": "cell-69b16e4386e58030",
     "locked": false,
     "schema_version": 3,
     "solution": true
    },
    "ExecuteTime": {
     "end_time": "2023-10-18T13:10:12.462341600Z",
     "start_time": "2023-10-18T13:10:09.401022300Z"
    }
   },
   "outputs": [
    {
     "name": "stdout",
     "output_type": "stream",
     "text": [
      "                      team  GP   W   L  OL  PTS  PTS%   GF   GA    SRS    SOS  \\\n",
      "28          Anaheim Ducks*  82  44  25  13  101  .616  235  216   0.24   0.01   \n",
      "34         Arizona Coyotes  82  29  41  12   70  .427  208  256  -0.53   0.05   \n",
      "2           Boston Bruins*  82  50  20  12  112  .683  270  214   0.62  -0.07   \n",
      "8           Buffalo Sabres  82  25  45  12   62  .378  199  280  -0.98   0.01   \n",
      "31          Calgary Flames  82  37  35  10   84  .512  218  248  -0.33   0.03   \n",
      "15     Carolina Hurricanes  82  36  35  11   83  .506  228  256  -0.35  -0.01   \n",
      "25      Chicago Blackhawks  82  33  39  10   76  .463  229  256  -0.26   0.07   \n",
      "22     Colorado Avalanche*  82  43  30   9   95  .579  257  237   0.28   0.04   \n",
      "13  Columbus Blue Jackets*  82  45  30   7   97  .591  242  230   0.11  -0.04   \n",
      "24            Dallas Stars  82  42  32   8   92  .561  235  225   0.17   0.04   \n",
      "5        Detroit Red Wings  82  30  39  13   73  .445  217  255  -0.48  -0.01   \n",
      "32         Edmonton Oilers  82  36  40   6   78  .476  234  263  -0.32   0.03   \n",
      "4         Florida Panthers  82  44  30   8   96  .585  248  246  -0.01  -0.04   \n",
      "30      Los Angeles Kings*  82  45  29   8   98  .598  239  203   0.44   0.00   \n",
      "21         Minnesota Wild*  82  45  26  11  101  .616  253  232   0.29   0.04   \n",
      "6       Montreal Canadiens  82  29  40  13   71  .433  209  264  -0.68   0.00   \n",
      "19    Nashville Predators*  82  53  18  11  117  .713  267  211   0.71   0.03   \n",
      "14      New Jersey Devils*  82  44  29   9   97  .591  248  244   0.02  -0.03   \n",
      "16      New York Islanders  82  35  37  10   80  .488  264  296  -0.40  -0.01   \n",
      "17        New York Rangers  82  34  39   9   77  .470  231  268  -0.46  -0.01   \n",
      "7          Ottawa Senators  82  28  43  11   67  .409  221  291  -0.85   0.00   \n",
      "12    Philadelphia Flyers*  82  42  26  14   98  .598  251  243   0.07  -0.03   \n",
      "11    Pittsburgh Penguins*  82  47  29   6  100  .610  272  250   0.23  -0.04   \n",
      "29        San Jose Sharks*  82  45  27  10  100  .610  252  229   0.28   0.00   \n",
      "23         St. Louis Blues  82  44  32   6   94  .573  226  222   0.10   0.05   \n",
      "1     Tampa Bay Lightning*  82  54  23   5  113  .689  296  236   0.66  -0.07   \n",
      "3     Toronto Maple Leafs*  82  49  26   7  105  .640  277  232   0.49  -0.06   \n",
      "33       Vancouver Canucks  82  31  40  11   73  .445  218  264  -0.51   0.05   \n",
      "27   Vegas Golden Knights*  82  51  24   7  109  .665  272  228   0.52  -0.01   \n",
      "10    Washington Capitals*  82  49  26   7  105  .640  259  239   0.21  -0.04   \n",
      "20          Winnipeg Jets*  82  52  20  10  114  .695  277  218   0.74   0.02   \n",
      "\n",
      "    RPt% ROW  year League     Ratio  \n",
      "28  .555  40  2018    NHL  1.760000  \n",
      "34  .372  27  2018    NHL  0.707317  \n",
      "2   .610  47  2018    NHL  2.500000  \n",
      "8   .311  24  2018    NHL  0.555556  \n",
      "31  .470  35  2018    NHL  1.057143  \n",
      "15  .439  33  2018    NHL  1.028571  \n",
      "25  .409  32  2018    NHL  0.846154  \n",
      "22  .518  41  2018    NHL  1.433333  \n",
      "13  .537  39  2018    NHL  1.500000  \n",
      "24  .506  38  2018    NHL  1.312500  \n",
      "5   .341  25  2018    NHL  0.769231  \n",
      "32  .415  31  2018    NHL  0.900000  \n",
      "4   .537  41  2018    NHL  1.466667  \n",
      "30  .543  43  2018    NHL  1.551724  \n",
      "21  .549  42  2018    NHL  1.730769  \n",
      "6   .378  27  2018    NHL  0.725000  \n",
      "19  .652  47  2018    NHL  2.944444  \n",
      "14  .530  39  2018    NHL  1.517241  \n",
      "16  .427  32  2018    NHL  0.945946  \n",
      "17  .427  31  2018    NHL  0.871795  \n",
      "7   .372  26  2018    NHL  0.651163  \n",
      "12  .543  40  2018    NHL  1.615385  \n",
      "11  .573  45  2018    NHL  1.620690  \n",
      "29  .537  40  2018    NHL  1.666667  \n",
      "23  .518  41  2018    NHL  1.375000  \n",
      "1   .634  48  2018    NHL  2.347826  \n",
      "3   .567  42  2018    NHL  1.884615  \n",
      "33  .409  31  2018    NHL  0.775000  \n",
      "27  .616  47  2018    NHL  2.125000  \n",
      "10  .585  46  2018    NHL  1.884615  \n",
      "20  .622  48  2018    NHL  2.600000  \n",
      "         Metropolitan area Population                       NHL     Ratio\n",
      "0            New York City   20153634  Rangers Islanders Devils       NaN\n",
      "1              Los Angeles   13310447               Kings Ducks  2.347826\n",
      "2   San Francisco Bay Area    6657982                    Sharks  2.500000\n",
      "3                  Chicago    9512999                Blackhawks  1.884615\n",
      "4        Dallas–Fort Worth    7233323                     Stars  1.466667\n",
      "5         Washington, D.C.    6131977                  Capitals  0.769231\n",
      "6             Philadelphia    6070500                    Flyers  0.725000\n",
      "7                   Boston    4794447                    Bruins  0.651163\n",
      "8   Minneapolis–Saint Paul    3551036                      Wild  0.555556\n",
      "9                   Denver    2853077                 Avalanche       NaN\n",
      "10   Miami–Fort Lauderdale    6066387                  Panthers  1.884615\n",
      "11                 Phoenix    4661537                   Coyotes  1.620690\n",
      "12                 Detroit    4297617                 Red Wings  1.615385\n",
      "13                 Toronto    5928040               Maple Leafs  1.500000\n",
      "16          Tampa Bay Area    3032171                 Lightning       NaN\n",
      "17              Pittsburgh    2342299                  Penguins       NaN\n",
      "22               St. Louis    2807002                     Blues  1.433333\n",
      "26               Nashville    1865298                 Predators       NaN\n",
      "29                 Buffalo    1132804                    Sabres  1.666667\n",
      "30                Montreal    4098927                 Canadiens       NaN\n",
      "31               Vancouver    2463431                   Canucks  1.057143\n",
      "34                Columbus    2041520              Blue Jackets  0.707317\n",
      "35                 Calgary    1392609                    Flames       NaN\n",
      "36                  Ottawa    1323783                  Senators       NaN\n",
      "37                Edmonton    1321426                    Oilers       NaN\n",
      "39                Winnipeg     778489                      Jets       NaN\n",
      "43               Las Vegas    2155664            Golden Knights       NaN\n",
      "47                 Raleigh    1302946                Hurricanes       NaN\n"
     ]
    },
    {
     "ename": "AssertionError",
     "evalue": "Q1: There should be 28 teams being analysed for NHL",
     "output_type": "error",
     "traceback": [
      "\u001B[1;31m---------------------------------------------------------------------------\u001B[0m",
      "\u001B[1;31mAssertionError\u001B[0m                            Traceback (most recent call last)",
      "Cell \u001B[1;32mIn[3], line 63\u001B[0m\n\u001B[0;32m     60\u001B[0m     \u001B[38;5;28;01massert\u001B[39;00m \u001B[38;5;28mlen\u001B[39m(population_by_region) \u001B[38;5;241m==\u001B[39m \u001B[38;5;241m28\u001B[39m, \u001B[38;5;124m\"\u001B[39m\u001B[38;5;124mQ1: There should be 28 teams being analysed for NHL\u001B[39m\u001B[38;5;124m\"\u001B[39m\n\u001B[0;32m     62\u001B[0m     \u001B[38;5;28;01mreturn\u001B[39;00m stats\u001B[38;5;241m.\u001B[39mpearsonr(population_by_region, win_loss_by_region)\n\u001B[1;32m---> 63\u001B[0m \u001B[43mnhl_correlation\u001B[49m\u001B[43m(\u001B[49m\u001B[43m)\u001B[49m\n",
      "Cell \u001B[1;32mIn[3], line 60\u001B[0m, in \u001B[0;36mnhl_correlation\u001B[1;34m()\u001B[0m\n\u001B[0;32m     57\u001B[0m \u001B[38;5;28mprint\u001B[39m(cities)\n\u001B[0;32m     59\u001B[0m \u001B[38;5;28;01massert\u001B[39;00m \u001B[38;5;28mlen\u001B[39m(population_by_region) \u001B[38;5;241m==\u001B[39m \u001B[38;5;28mlen\u001B[39m(win_loss_by_region), \u001B[38;5;124m\"\u001B[39m\u001B[38;5;124mQ1: Your lists must be the same length\u001B[39m\u001B[38;5;124m\"\u001B[39m\n\u001B[1;32m---> 60\u001B[0m \u001B[38;5;28;01massert\u001B[39;00m \u001B[38;5;28mlen\u001B[39m(population_by_region) \u001B[38;5;241m==\u001B[39m \u001B[38;5;241m28\u001B[39m, \u001B[38;5;124m\"\u001B[39m\u001B[38;5;124mQ1: There should be 28 teams being analysed for NHL\u001B[39m\u001B[38;5;124m\"\u001B[39m\n\u001B[0;32m     62\u001B[0m \u001B[38;5;28;01mreturn\u001B[39;00m stats\u001B[38;5;241m.\u001B[39mpearsonr(population_by_region, win_loss_by_region)\n",
      "\u001B[1;31mAssertionError\u001B[0m: Q1: There should be 28 teams being analysed for NHL"
     ]
    }
   ],
   "source": [
    "#     def d(x):\n",
    "#         if 'City' not in str(x) and 'Area' not in str(x):\n",
    "#             return x\n",
    "#         else:\n",
    "#             if 'City' in str(x):\n",
    "#                 ind = str(x).find('City')\n",
    "#                 x = str(x)[:(ind-1)]\n",
    "#                 return x\n",
    "#             else:\n",
    "#                 ind = str(x).find('Area')\n",
    "#                 x = str(x)[:(ind-1)]\n",
    "#                 return x\n",
    "            \n",
    "#     def do(x):\n",
    "#         if '*' in str(x):\n",
    "#             return x[:-1]\n",
    "#         else:\n",
    "#             return x\n",
    "        \n",
    "#     # print(df.sort_values(by=['team'])['team'])\n",
    "    \n",
    "#     def do_func(x):\n",
    "#         if str(x) in ' '.join(list(df['team'])):\n",
    "#             for i in list(df['team']):\n",
    "#                 if str(x) in i:\n",
    "#                     print(i)\n",
    "#                     return float(df.set_index('team').loc[str(i.strip()), 'W']) / float(df.set_index('team').loc[str(i.strip()), 'L'])\n",
    "    \n",
    "#     new_df = cities[['Metropolitan area', 'Population']]\n",
    "#     df['team'] = df['team'].apply(do)\n",
    "#     new_df['Metropolitan area'] = new_df['Metropolitan area'].apply(d)\n",
    "#     new_df['Ratio'] = new_df['Metropolitan area'].apply(do_func)\n",
    "    \n",
    "\n",
    "import pandas as pd\n",
    "import numpy as np\n",
    "import scipy.stats as stats\n",
    "import re\n",
    "\n",
    "def nhl_correlation(): \n",
    "    nhl_df=pd.read_csv(\"assets/nhl.csv\")\n",
    "    cities=pd.read_html(\"assets/wikipedia_data.html\")[1]\n",
    "    df = nhl_df[1:35]\n",
    "    df = df.drop([9, 18, 26])\n",
    "    \n",
    "    df = df.sort_values(by=['team'])\n",
    "    \n",
    "    # cities=cities.iloc[:-1,[0,3,5,6,7,8]]\n",
    "    cities = cities.iloc[:-1,[0,3,8]]\n",
    "    cities = cities.rename(columns={'Population (2016 est.)[8]' : 'Population'})\n",
    "    # cities = cities.sort_values(by='Metropolitan area', axis=0)\n",
    "    \n",
    "    population_by_region = [] # pass in metropolitan area population from cities\n",
    "    win_loss_by_region = []\n",
    "    \n",
    "    def check_func(x):\n",
    "        if '—' in str(x):\n",
    "            return np.NaN\n",
    "        elif '[' in str(x):\n",
    "            x = x.split('[')[0]\n",
    "            return x\n",
    "        else:\n",
    "            return x\n",
    "    \n",
    "    def del_empty(x):\n",
    "        if not x:\n",
    "            return np.NaN\n",
    "        else:\n",
    "            return x\n",
    "    \n",
    "    def make_ratio(x):\n",
    "        for i in list(cities['NHL']):\n",
    "            if str(i.strip()) in str(x.loc['team']):\n",
    "                return float(x.loc['Ratio'])\n",
    "            \n",
    "    cities['NHL'] = cities['NHL'].apply(check_func)\n",
    "    cities['NHL'] = cities['NHL'].apply(del_empty)\n",
    "    \n",
    "    cities = cities.dropna()\n",
    "    \n",
    "    df['Ratio'] = df[['W', 'L']].apply(lambda x: float(x.loc['W']) / float(x.loc['L']), axis=1)\n",
    "    \n",
    "    \n",
    "    cities['Ratio'] = df[['team', 'Ratio']].apply(make_ratio, axis=1)\n",
    "    print(df)\n",
    "    print(cities)\n",
    "    \n",
    "    assert len(population_by_region) == len(win_loss_by_region), \"Q1: Your lists must be the same length\"\n",
    "    assert len(population_by_region) == 28, \"Q1: There should be 28 teams being analysed for NHL\"\n",
    "    \n",
    "    return stats.pearsonr(population_by_region, win_loss_by_region)\n",
    "nhl_correlation()"
   ]
  },
  {
   "cell_type": "code",
   "execution_count": null,
   "metadata": {
    "deletable": false,
    "editable": false,
    "nbgrader": {
     "cell_type": "code",
     "checksum": "52a581df513c71153e105b93764cda4b",
     "grade": true,
     "grade_id": "cell-ebe0b2dfe1067e63",
     "locked": true,
     "points": 20,
     "schema_version": 3,
     "solution": false
    }
   },
   "outputs": [],
   "source": []
  },
  {
   "attachments": {},
   "cell_type": "markdown",
   "metadata": {
    "deletable": false,
    "editable": false,
    "nbgrader": {
     "cell_type": "markdown",
     "checksum": "988912cae4968d81473f46d783e79c16",
     "grade": false,
     "grade_id": "cell-cb964e690298b71d",
     "locked": true,
     "schema_version": 3,
     "solution": false
    }
   },
   "source": [
    "## Question 2\n",
    "For this question, calculate the win/loss ratio's correlation with the population of the city it is in for the **NBA** using **2018** data."
   ]
  },
  {
   "cell_type": "code",
   "execution_count": null,
   "metadata": {
    "deletable": false,
    "nbgrader": {
     "cell_type": "code",
     "checksum": "9394222aafc8ccab0a228098ba0d6010",
     "grade": false,
     "grade_id": "cell-5a5f21279e3d3572",
     "locked": false,
     "schema_version": 3,
     "solution": true
    }
   },
   "outputs": [],
   "source": [
    "import pandas as pd\n",
    "import numpy as np\n",
    "import scipy.stats as stats\n",
    "import re\n",
    "\n",
    "nba_df=pd.read_csv(\"assets/nba.csv\")\n",
    "cities=pd.read_html(\"assets/wikipedia_data.html\")[1]\n",
    "cities=cities.iloc[:-1,[0,3,5,6,7,8]]\n",
    "\n",
    "def nba_correlation():\n",
    "    # YOUR CODE HERE\n",
    "    raise NotImplementedError()\n",
    "    \n",
    "    population_by_region = [] # pass in metropolitan area population from cities\n",
    "    win_loss_by_region = [] # pass in win/loss ratio from nba_df in the same order as cities[\"Metropolitan area\"]\n",
    "\n",
    "    assert len(population_by_region) == len(win_loss_by_region), \"Q2: Your lists must be the same length\"\n",
    "    assert len(population_by_region) == 28, \"Q2: There should be 28 teams being analysed for NBA\"\n",
    "\n",
    "    return stats.pearsonr(population_by_region, win_loss_by_region)"
   ]
  },
  {
   "cell_type": "code",
   "execution_count": null,
   "metadata": {
    "deletable": false,
    "editable": false,
    "nbgrader": {
     "cell_type": "code",
     "checksum": "bbdeb8eb22f525a34c10dc8798324e42",
     "grade": true,
     "grade_id": "cell-e573b2b4a282b470",
     "locked": true,
     "points": 20,
     "schema_version": 3,
     "solution": false
    }
   },
   "outputs": [],
   "source": []
  },
  {
   "attachments": {},
   "cell_type": "markdown",
   "metadata": {
    "deletable": false,
    "editable": false,
    "nbgrader": {
     "cell_type": "markdown",
     "checksum": "1a1a5809f675ca033086422007cd73bd",
     "grade": false,
     "grade_id": "cell-96e15e4335df78f4",
     "locked": true,
     "schema_version": 3,
     "solution": false
    }
   },
   "source": [
    "## Question 3\n",
    "For this question, calculate the win/loss ratio's correlation with the population of the city it is in for the **MLB** using **2018** data."
   ]
  },
  {
   "cell_type": "code",
   "execution_count": null,
   "metadata": {
    "deletable": false,
    "nbgrader": {
     "cell_type": "code",
     "checksum": "27e8c0da6c9fa0dffc10488314335b6c",
     "grade": false,
     "grade_id": "cell-33b00fc3f3467b0c",
     "locked": false,
     "schema_version": 3,
     "solution": true
    }
   },
   "outputs": [],
   "source": [
    "import pandas as pd\n",
    "import numpy as np\n",
    "import scipy.stats as stats\n",
    "import re\n",
    "\n",
    "mlb_df=pd.read_csv(\"assets/mlb.csv\")\n",
    "cities=pd.read_html(\"assets/wikipedia_data.html\")[1]\n",
    "cities=cities.iloc[:-1,[0,3,5,6,7,8]]\n",
    "\n",
    "def mlb_correlation(): \n",
    "    # YOUR CODE HERE\n",
    "    raise NotImplementedError()\n",
    "    \n",
    "    population_by_region = [] # pass in metropolitan area population from cities\n",
    "    win_loss_by_region = [] # pass in win/loss ratio from mlb_df in the same order as cities[\"Metropolitan area\"]\n",
    "\n",
    "    assert len(population_by_region) == len(win_loss_by_region), \"Q3: Your lists must be the same length\"\n",
    "    assert len(population_by_region) == 26, \"Q3: There should be 26 teams being analysed for MLB\"\n",
    "\n",
    "    return stats.pearsonr(population_by_region, win_loss_by_region)"
   ]
  },
  {
   "cell_type": "code",
   "execution_count": null,
   "metadata": {
    "deletable": false,
    "editable": false,
    "nbgrader": {
     "cell_type": "code",
     "checksum": "cda33b094ba19ccc37a481e0dd29e0bc",
     "grade": true,
     "grade_id": "cell-764d4476f425c5a2",
     "locked": true,
     "points": 20,
     "schema_version": 3,
     "solution": false
    }
   },
   "outputs": [],
   "source": []
  },
  {
   "attachments": {},
   "cell_type": "markdown",
   "metadata": {
    "deletable": false,
    "editable": false,
    "nbgrader": {
     "cell_type": "markdown",
     "checksum": "6977a6da9ed6d8b7a0b7e37bbeda709b",
     "grade": false,
     "grade_id": "cell-793df6c04dfb126e",
     "locked": true,
     "schema_version": 3,
     "solution": false
    }
   },
   "source": [
    "## Question 4\n",
    "For this question, calculate the win/loss ratio's correlation with the population of the city it is in for the **NFL** using **2018** data."
   ]
  },
  {
   "cell_type": "code",
   "execution_count": null,
   "metadata": {
    "deletable": false,
    "nbgrader": {
     "cell_type": "code",
     "checksum": "c4914ad1e119278ec2bd567c52640b66",
     "grade": false,
     "grade_id": "cell-8ccebc209aeec8d9",
     "locked": false,
     "schema_version": 3,
     "solution": true
    }
   },
   "outputs": [],
   "source": [
    "import pandas as pd\n",
    "import numpy as np\n",
    "import scipy.stats as stats\n",
    "import re\n",
    "\n",
    "nfl_df=pd.read_csv(\"assets/nfl.csv\")\n",
    "cities=pd.read_html(\"assets/wikipedia_data.html\")[1]\n",
    "cities=cities.iloc[:-1,[0,3,5,6,7,8]]\n",
    "\n",
    "def nfl_correlation(): \n",
    "    # YOUR CODE HERE\n",
    "    raise NotImplementedError()\n",
    "    \n",
    "    population_by_region = [] # pass in metropolitan area population from cities\n",
    "    win_loss_by_region = [] # pass in win/loss ratio from nfl_df in the same order as cities[\"Metropolitan area\"]\n",
    "\n",
    "    assert len(population_by_region) == len(win_loss_by_region), \"Q4: Your lists must be the same length\"\n",
    "    assert len(population_by_region) == 29, \"Q4: There should be 29 teams being analysed for NFL\"\n",
    "\n",
    "    return stats.pearsonr(population_by_region, win_loss_by_region)"
   ]
  },
  {
   "cell_type": "code",
   "execution_count": null,
   "metadata": {
    "deletable": false,
    "editable": false,
    "nbgrader": {
     "cell_type": "code",
     "checksum": "e9415d6399aa49e3a1a60813afdefa3b",
     "grade": true,
     "grade_id": "cell-de7b148b9554dbda",
     "locked": true,
     "points": 20,
     "schema_version": 3,
     "solution": false
    }
   },
   "outputs": [],
   "source": []
  },
  {
   "attachments": {},
   "cell_type": "markdown",
   "metadata": {
    "deletable": false,
    "editable": false,
    "nbgrader": {
     "cell_type": "markdown",
     "checksum": "b02d5cd3273f561e4ae939bb2a41740c",
     "grade": false,
     "grade_id": "cell-97b49d8639e908c4",
     "locked": true,
     "schema_version": 3,
     "solution": false
    }
   },
   "source": [
    "## Question 5\n",
    "In this question I would like you to explore the hypothesis that **given that an area has two sports teams in different sports, those teams will perform the same within their respective sports**. How I would like to see this explored is with a series of paired t-tests (so use [`ttest_rel`](https://docs.scipy.org/doc/scipy/reference/generated/scipy.stats.ttest_rel.html)) between all pairs of sports. Are there any sports where we can reject the null hypothesis? Again, average values where a sport has multiple teams in one region. Remember, you will only be including, for each sport, cities which have teams engaged in that sport, drop others as appropriate. This question is worth 20% of the grade for this assignment."
   ]
  },
  {
   "cell_type": "code",
   "execution_count": null,
   "metadata": {
    "deletable": false,
    "nbgrader": {
     "cell_type": "code",
     "checksum": "6d78c961eb66f8d8c81f06d33ae8f393",
     "grade": false,
     "grade_id": "cell-92f25f44b8d1179f",
     "locked": false,
     "schema_version": 3,
     "solution": true
    }
   },
   "outputs": [],
   "source": [
    "import pandas as pd\n",
    "import numpy as np\n",
    "import scipy.stats as stats\n",
    "import re\n",
    "\n",
    "mlb_df=pd.read_csv(\"assets/mlb.csv\")\n",
    "nhl_df=pd.read_csv(\"assets/nhl.csv\")\n",
    "nba_df=pd.read_csv(\"assets/nba.csv\")\n",
    "nfl_df=pd.read_csv(\"assets/nfl.csv\")\n",
    "cities=pd.read_html(\"assets/wikipedia_data.html\")[1]\n",
    "cities=cities.iloc[:-1,[0,3,5,6,7,8]]\n",
    "\n",
    "def sports_team_performance():\n",
    "    # YOUR CODE HERE\n",
    "    raise NotImplementedError()\n",
    "    \n",
    "    # Note: p_values is a full dataframe, so df.loc[\"NFL\",\"NBA\"] should be the same as df.loc[\"NBA\",\"NFL\"] and\n",
    "    # df.loc[\"NFL\",\"NFL\"] should return np.nan\n",
    "    sports = ['NFL', 'NBA', 'NHL', 'MLB']\n",
    "    p_values = pd.DataFrame({k:np.nan for k in sports}, index=sports)\n",
    "    \n",
    "    assert abs(p_values.loc[\"NBA\", \"NHL\"] - 0.02) <= 1e-2, \"The NBA-NHL p-value should be around 0.02\"\n",
    "    assert abs(p_values.loc[\"MLB\", \"NFL\"] - 0.80) <= 1e-2, \"The MLB-NFL p-value should be around 0.80\"\n",
    "    return p_values"
   ]
  },
  {
   "cell_type": "code",
   "execution_count": null,
   "metadata": {
    "deletable": false,
    "editable": false,
    "nbgrader": {
     "cell_type": "code",
     "checksum": "2a596ab421a45cc01168d10e8fbb8f89",
     "grade": true,
     "grade_id": "cell-fb4b9cb5ff4570a6",
     "locked": true,
     "points": 20,
     "schema_version": 3,
     "solution": false
    }
   },
   "outputs": [],
   "source": []
  }
 ],
 "metadata": {
  "kernelspec": {
   "display_name": "Python 3 (ipykernel)",
   "language": "python",
   "name": "python3"
  },
  "language_info": {
   "codemirror_mode": {
    "name": "ipython",
    "version": 3
   },
   "file_extension": ".py",
   "mimetype": "text/x-python",
   "name": "python",
   "nbconvert_exporter": "python",
   "pygments_lexer": "ipython3",
   "version": "3.7.10"
  }
 },
 "nbformat": 4,
 "nbformat_minor": 4
}
